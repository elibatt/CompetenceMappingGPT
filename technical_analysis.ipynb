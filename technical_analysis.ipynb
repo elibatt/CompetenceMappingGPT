{
 "cells": [
  {
   "cell_type": "code",
   "execution_count": null,
   "metadata": {},
   "outputs": [],
   "source": [
    "%config InlineBackend.figure_formats = ['retina']\n",
    "\n",
    "import pandas as pd\n",
    "import numpy as np\n",
    "import seaborn as sns\n",
    "import matplotlib.pyplot as plt\n",
    "\n",
    "tech_cat_st_results = pd.read_csv('data/results_categories_and_streets.csv')\n",
    "tech_subcat_results = pd.read_csv('data/results_subcategories.csv')\n",
    "\n",
    "dict = {\"CATEGORY\": tech_cat_st_results, \"SUBCATEGORY\": tech_subcat_results}\n",
    "\n",
    "values = []\n",
    "\n",
    "for key in dict.keys():\n",
    "    data = dict[key]\n",
    "    is_correct = data[f'IS_{key}_CORRECT']\n",
    "    value_count = is_correct.value_counts()\n",
    "    acc = value_count[0]/(value_count[0]+value_count[1])\n",
    "    print(f\"{key}: {acc}\")\n",
    "    values.append(acc)\n",
    "\n",
    "sns.set(rc={\"figure.dpi\":100, 'savefig.dpi':100})\n",
    "sns.set_context('notebook')\n",
    "sns.set_style(\"ticks\")\n",
    "\n",
    "plt.figure(figsize=(10, 6))\n",
    "sns.barplot(x=list(dict.keys()), y=values, hue=list(dict.keys()))\n",
    "plt.title(\"Accuracy\")\n",
    "plt.ylabel(\"Accuracy Value\")\n",
    "plt.yticks(np.arange(0.0, max(values) + 0.2, 0.2))\n",
    "sns.despine(left=False, bottom=False)"
   ]
  },
  {
   "cell_type": "code",
   "execution_count": null,
   "metadata": {},
   "outputs": [],
   "source": [
    "subcat_data = dict[\"SUBCATEGORY\"]\n",
    "sub_categories = subcat_data.TITLE.unique()\n",
    "sets_list = []\n",
    "\n",
    "for i in range(0, len(sub_categories)-1):\n",
    "    for j in range(i+1, len(sub_categories)):\n",
    "        sets_list.append({sub_categories[i], sub_categories[j]})\n",
    "\n",
    "sub_false = subcat_data[~subcat_data.IS_SUBCATEGORY_CORRECT].reset_index(drop=True)\n",
    "\n",
    "array_false_sub = [0]*len(sets_list)\n",
    "for _, row in sub_false.iterrows():\n",
    "    index = sets_list.index({row.TITLE, row.SUBCATEGORY_ANSWER})\n",
    "    array_false_sub[index] += 1\n",
    "\n",
    "sets_strings = []\n",
    "for x in sets_list:\n",
    "    s = x.pop().split(':')[1].strip()+ \" - \" + x.pop().split(':')[1].strip()\n",
    "    sets_strings.append(s)\n",
    "\n",
    "plt.figure(figsize=(10, 6))\n",
    "sns.barplot(x=sets_strings, y=array_false_sub, hue=sets_strings)\n",
    "plt.title(\"Subcategories pair\")\n",
    "plt.ylabel(\"Count\")\n",
    "plt.xticks(size=8)\n",
    "sns.despine(left=False, bottom=False)\n",
    "        "
   ]
  },
  {
   "cell_type": "code",
   "execution_count": null,
   "metadata": {},
   "outputs": [],
   "source": [
    "cat_data = dict[\"CATEGORY\"]\n",
    "count_is_street_true = len(cat_data[cat_data.STREET_CORRECTNESS>50])\n",
    "count_is_street_false = len(cat_data)-count_is_street_true\n",
    "\n",
    "print(f\"Street true: {count_is_street_true} Street false: {count_is_street_false}\")\n",
    "\n",
    "plt.figure(figsize=(10, 6))\n",
    "sns.barplot(x=list(['Street correct>50%', 'Street correct<50%']), y=[count_is_street_true,count_is_street_false], hue=list(['Street correct>50%', 'Street correct<50%']))\n",
    "plt.title(\"Correct Rows\")\n",
    "plt.ylabel(\"Number of rows\")\n",
    "sns.despine(left=False, bottom=False)"
   ]
  },
  {
   "cell_type": "code",
   "execution_count": null,
   "metadata": {},
   "outputs": [],
   "source": [
    "print(f\"Street Accuracy: {count_is_street_true/(count_is_street_true+count_is_street_false)}\")"
   ]
  },
  {
   "cell_type": "code",
   "execution_count": null,
   "metadata": {},
   "outputs": [],
   "source": [
    "count_value_keys = cat_data.STREET_CORRECTNESS.value_counts().keys()\n",
    "\n",
    "my_list = list()\n",
    "\n",
    "for i in range(1,5):\n",
    "    sub_array = [x for x in count_value_keys if 20*(i-1) <= x < 20*i]\n",
    "    count_value_per_keys = sum(cat_data.STREET_CORRECTNESS.value_counts()[sub_array].values)\n",
    "    my_list.append(count_value_per_keys)\n",
    "\n",
    "my_list.append(cat_data.STREET_CORRECTNESS.value_counts()[100])\n",
    "xlabels = ['0 - 24','25 - 49','50 - 74','75 - 99', '100']\n",
    "\n",
    "plt.figure(figsize=(10, 6))\n",
    "sns.barplot(x=list(xlabels), y=my_list, hue=list(xlabels))\n",
    "plt.title(\"Street name correspondence\")\n",
    "plt.ylabel(\"Number of rows\")\n",
    "plt.xlabel(\"Score\")\n",
    "sns.despine(left=False, bottom=False)"
   ]
  }
 ],
 "metadata": {
  "kernelspec": {
   "display_name": "env",
   "language": "python",
   "name": "python3"
  },
  "language_info": {
   "codemirror_mode": {
    "name": "ipython",
    "version": 3
   },
   "file_extension": ".py",
   "mimetype": "text/x-python",
   "name": "python",
   "nbconvert_exporter": "python",
   "pygments_lexer": "ipython3",
   "version": "3.11.6"
  },
  "orig_nbformat": 4
 },
 "nbformat": 4,
 "nbformat_minor": 2
}
