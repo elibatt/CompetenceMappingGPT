{
 "cells": [
  {
   "cell_type": "code",
   "execution_count": 7,
   "metadata": {},
   "outputs": [],
   "source": [
    "# Test 1: Understand if ChatGPT is able to find differences between different categories\n",
    "\n",
    "# ['Pothole',\n",
    "#  'Missed Collection: Garbage',\n",
    "#  'Street Light Out',\n",
    "#  'Interior of Building in Disrepair',\n",
    "#  'Sanitation Inspector Notification']\n",
    "\n",
    "# Test 2: Understand if ChatGPT is able to find the difference between similar categories\n",
    "\n",
    "# ['Garbage Cart: Delete',\n",
    "# 'Garbage Cart: Additional',\n",
    "# 'Garbage Cart: Damaged',\n",
    "# 'Garbage Cart: Missing',\n",
    "# 'Garbage Cart: No Cart']\n",
    "\n",
    "# Additional Test A: Understand if ChatGPT is able to find specific information in the description (For Example the street)\n",
    "\n",
    "# General prompt\n",
    "\n",
    "# \"You have this list of categories \" + str(all_categories) + \n",
    "# \" and the following message, representing a ticket\\n\\n\" + str(df_cleaned.iloc[i].CASECLOSUREREASONDESCRIPTION) + \n",
    "# \"\\n\\ncan you identify the category of the ticket and the street in which the problem occurred?\" + \n",
    "# \"Please answer like this: <name of the category>; <name of street>\\n\" +\n",
    "# \"Please do not use any other syntactic sugar.\"\n"
   ]
  },
  {
   "cell_type": "code",
   "execution_count": 8,
   "metadata": {},
   "outputs": [],
   "source": [
    "import pandas as pd\n",
    "import openai\n",
    "\n",
    "openai.organization = \"org-pzwdKxabuPnrc0kMWRWci2qK\"\n",
    "openai.api_key_path = \"OPENAI_API_KEY.txt\""
   ]
  },
  {
   "cell_type": "markdown",
   "metadata": {},
   "source": [
    "# Category and street dataset processing"
   ]
  },
  {
   "cell_type": "code",
   "execution_count": 9,
   "metadata": {},
   "outputs": [
    {
     "name": "stdout",
     "output_type": "stream",
     "text": [
      "Length of the df before filtering: 147514\n",
      "Length of the df after filtering for the length of the case description: 29991\n",
      "Length of the df after filtering for the number of examples for each category: 8583\n",
      "Length of the df after filtering records with the street specified: 2246\n"
     ]
    },
    {
     "data": {
      "text/plain": [
       "['Pothole',\n",
       " 'Street Light Out',\n",
       " 'Missed Collection: Garbage',\n",
       " 'Interior of Building in Disrepair',\n",
       " 'Garbage Supervisor Notification',\n",
       " 'Garbage Supervisor Callback',\n",
       " 'Garbage Cart: Damaged',\n",
       " 'Sanitation Inspector Notification']"
      ]
     },
     "execution_count": 9,
     "metadata": {},
     "output_type": "execute_result"
    }
   ],
   "source": [
    "df = pd.read_csv(\"data/callcenterdatahistorical.csv\")\n",
    "print(\"Length of the df before filtering: \" + str(len(df)))\n",
    "\n",
    "df_cleaned = df[df['CASECLOSUREREASONDESCRIPTION'].apply(lambda x: len(str(x).split()) > 15)]\n",
    "print(\"Length of the df after filtering for the length of the case description: \" + str(len(df_cleaned)))\n",
    "\n",
    "df_cleaned = df_cleaned[df_cleaned.groupby('TITLE')['TITLE'].transform('count') >= 800]\n",
    "print(\"Length of the df after filtering for the number of examples for each category: \" + str(len(df_cleaned)))\n",
    "\n",
    "# Filter records with the street specified in the CASECLOSUREREASONDESCRIPTION field\n",
    "street_pattern = r'\\b(?:Av|Ave|Avenue|Street|\\d+(?:st|nd|rd|th))\\b'\n",
    "df_cleaned = df_cleaned[df_cleaned['CASECLOSUREREASONDESCRIPTION'].str.contains(street_pattern, case=False, na=False)]\n",
    "print(\"Length of the df after filtering records with the street specified: \" + str(len(df_cleaned)))\n",
    "\n",
    "all_categories = list(df_cleaned.TITLE.unique())\n",
    "all_categories"
   ]
  },
  {
   "cell_type": "code",
   "execution_count": 10,
   "metadata": {},
   "outputs": [
    {
     "name": "stdout",
     "output_type": "stream",
     "text": [
      "                               TITLE  count\n",
      "0              Garbage Cart: Damaged     32\n",
      "1        Garbage Supervisor Callback     32\n",
      "2    Garbage Supervisor Notification     32\n",
      "3  Interior of Building in Disrepair     32\n",
      "4         Missed Collection: Garbage     32\n",
      "5                            Pothole     32\n",
      "6  Sanitation Inspector Notification     32\n",
      "7                   Street Light Out     32\n",
      "256\n"
     ]
    }
   ],
   "source": [
    "samples_per_group = 32\n",
    "\n",
    "grouped = df_cleaned.groupby('TITLE', group_keys=False)\n",
    "\n",
    "df_cleaned = grouped.apply(lambda x: x.sample(min(len(x), samples_per_group)))\n",
    "\n",
    "df_cleaned = df_cleaned.reset_index(drop=True)\n",
    "\n",
    "print(df_cleaned['TITLE'].value_counts().reset_index())\n",
    "print(len(df_cleaned))"
   ]
  },
  {
   "cell_type": "markdown",
   "metadata": {},
   "source": [
    "# Subcategories dataset processing"
   ]
  },
  {
   "cell_type": "code",
   "execution_count": 11,
   "metadata": {},
   "outputs": [
    {
     "name": "stdout",
     "output_type": "stream",
     "text": [
      "Length of the df before filtering: 147514\n",
      "Length of the df after filtering for the length of the case description: 29991\n",
      "Length of the df after filtering for the number of examples for each category: 24007\n",
      "Length of the df after filtering records with the category specified: 2298\n",
      "['All Other Signs', 'Pothole', 'Missed Collection: Recycling', 'Missed Collection: Garbage', 'Street Light Out', 'Large Items Discarded on Private Property', 'Area Dark', 'Missed Collection: Additional Items', 'Garbage Supervisor Notification', 'Exterior of Building in Disrepair', 'Recycling Supervisor Notification', 'Clogged Catch Basin/Surface Flooding', 'Miscellaneous Sewers Request', 'Interior of Building in Disrepair', 'Scattered Litter and Debris on Private Property', 'Sanitation Inspector Callback', 'Other Miscellaneous Forestry Request', 'Construction Concerns', 'Recycling Cart Collection Request: Cart Not at Collection Point', 'Miscellaneous Street Maintenance Request', 'Brush Pickup Request, Less than 2 Cubic Yards, April-November', 'Recycling Cart: Additional', 'Recycling Cart: Missing', 'Dead Animal', 'Other Miscellaneous Electrical Services Request', 'Special Services Callback', 'Broken Branch Down - Not Blocking', 'Recycling Cart: No Cart', 'Trim City Tree', 'Rats or Rat Harborage', 'Special Services Miscellaneous', 'Other Animal Problem', 'City Tree Dying, Dead, Sick, Losing Leaves or Leaking Sap', 'Garbage Supervisor Callback', 'Forestry Callback Request Not Related to Code Enforcement', 'Barricade or Guardrail Problem', 'Recycling Cart: Damaged', 'Special Pickup - Accident Debris', 'Forestry Callback Request About Code Enforcement', 'Weeds and Tall Grass Complaint', 'Sidewalk Repair', 'Recycling Supervisor Callback', 'Backwater', 'Sanitation Inspector Notification', 'Skid Referral, 1-6 Cubic Yards ($50-$150 Charge)', 'Garbage Cart']\n",
      "['Garbage Cart: Delete', 'Garbage Cart: Additional', 'Garbage Cart: Missing', 'Garbage Cart: Damaged', 'Garbage Cart: No Cart']\n"
     ]
    }
   ],
   "source": [
    "df = pd.read_csv(\"data/callcenterdatahistorical.csv\")\n",
    "print(\"Length of the df before filtering: \" + str(len(df)))\n",
    "\n",
    "df_new = df[df['CASECLOSUREREASONDESCRIPTION'].apply(lambda x: len(str(x).split()) > 15)]\n",
    "print(\"Length of the df after filtering for the length of the case description: \" + str(len(df_new)))\n",
    "\n",
    "df_new = df_new[df_new.groupby('TITLE')['TITLE'].transform('count') >= 150]\n",
    "print(\"Length of the df after filtering for the number of examples for each category: \" + str(len(df_new)))\n",
    "\n",
    "all_categories = list(df_new.TITLE.unique())\n",
    "df_new = df_new[df_new['TITLE'].str.contains(\"Garbage Cart:\", case=False, na=False)].reset_index(drop=True)\n",
    "print(\"Length of the df after filtering records with the category specified: \" + str(len(df_new)))\n",
    "\n",
    "all_categories = [category for category in all_categories if \"Garbage Cart\" not in category]\n",
    "all_categories.append(\"Garbage Cart\")\n",
    "print(all_categories)\n",
    "all_subcategories = list(df_new.TITLE.unique())\n",
    "print(all_subcategories)"
   ]
  },
  {
   "cell_type": "code",
   "execution_count": 12,
   "metadata": {},
   "outputs": [
    {
     "name": "stdout",
     "output_type": "stream",
     "text": [
      "                      TITLE  count\n",
      "0  Garbage Cart: Additional     32\n",
      "1     Garbage Cart: Damaged     32\n",
      "2      Garbage Cart: Delete     32\n",
      "3     Garbage Cart: Missing     32\n",
      "4     Garbage Cart: No Cart     32\n",
      "160\n"
     ]
    }
   ],
   "source": [
    "samples_per_group = 32\n",
    "\n",
    "grouped = df_new.groupby('TITLE', group_keys=False)\n",
    "\n",
    "df_cleaned = grouped.apply(lambda x: x.sample(min(len(x), samples_per_group)))\n",
    "\n",
    "df_cleaned = df_cleaned.reset_index(drop=True)\n",
    "\n",
    "print(df_cleaned['TITLE'].value_counts().reset_index())\n",
    "print(len(df_cleaned))"
   ]
  }
 ],
 "metadata": {
  "kernelspec": {
   "display_name": "env",
   "language": "python",
   "name": "python3"
  },
  "language_info": {
   "codemirror_mode": {
    "name": "ipython",
    "version": 3
   },
   "file_extension": ".py",
   "mimetype": "text/x-python",
   "name": "python",
   "nbconvert_exporter": "python",
   "pygments_lexer": "ipython3",
   "version": "3.11.6"
  },
  "orig_nbformat": 4
 },
 "nbformat": 4,
 "nbformat_minor": 2
}
