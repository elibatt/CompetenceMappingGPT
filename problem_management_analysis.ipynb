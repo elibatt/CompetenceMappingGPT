{
 "cells": [
  {
   "cell_type": "code",
   "execution_count": null,
   "metadata": {},
   "outputs": [],
   "source": [
    "%config InlineBackend.figure_formats = ['retina']\n",
    "\n",
    "import pandas as pd\n",
    "from sklearn.metrics import mean_squared_error\n",
    "import numpy as np\n",
    "\n",
    "\n",
    "probsolv_results = pd.read_csv('data/results_problem_solving_competences.csv')\n",
    "\n",
    "print(probsolv_results)\n",
    "\n",
    "values = []\n",
    "keys = [\"FIRST\", \"SECOND\", \"THIRD\", \"FOURTH\", \"FIFTH\", \"SIXTH\", \"SEVENTH\"]\n",
    "\n",
    "for key in keys:\n",
    "    actual = probsolv_results[\"TARGET_\"+key]\n",
    "    predicted = probsolv_results[key]\n",
    "    mse = mean_squared_error(actual, predicted)\n",
    "    rmse = np.sqrt(mse)\n",
    "    print(f\"{key}: {rmse}\")\n",
    "    values.append(rmse)\n"
   ]
  },
  {
   "cell_type": "code",
   "execution_count": null,
   "metadata": {},
   "outputs": [],
   "source": [
    "import seaborn as sns\n",
    "import matplotlib.pyplot as plt\n",
    "\n",
    "sns.set(rc={\"figure.dpi\":100, 'savefig.dpi':100})\n",
    "sns.set_context('notebook')\n",
    "sns.set_style(\"ticks\")\n",
    "\n",
    "plt.figure(figsize=(10, 6))\n",
    "sns.barplot(x=list(keys), y=values, hue=list(keys))\n",
    "plt.title(\"RMSE\")\n",
    "plt.ylabel(\"RMSE Values\")\n",
    "plt.yticks(np.arange(0.0, max(values) + 0.2, 0.2))\n",
    "sns.despine(left=False, bottom=False)"
   ]
  }
 ],
 "metadata": {
  "kernelspec": {
   "display_name": "env",
   "language": "python",
   "name": "python3"
  },
  "language_info": {
   "codemirror_mode": {
    "name": "ipython",
    "version": 3
   },
   "file_extension": ".py",
   "mimetype": "text/x-python",
   "name": "python",
   "nbconvert_exporter": "python",
   "pygments_lexer": "ipython3",
   "version": "3.11.6"
  },
  "orig_nbformat": 4
 },
 "nbformat": 4,
 "nbformat_minor": 2
}
